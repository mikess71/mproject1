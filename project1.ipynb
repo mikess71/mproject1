{
 "cells": [
  {
   "cell_type": "code",
   "execution_count": 247,
   "metadata": {},
   "outputs": [],
   "source": [
    "import pandas as pd\n",
    "import numpy as np"
   ]
  },
  {
   "cell_type": "markdown",
   "metadata": {},
   "source": [
    "Upload temperature Data to temp DF a, convert dates, change colun headers, check results"
   ]
  },
  {
   "cell_type": "code",
   "execution_count": 248,
   "metadata": {},
   "outputs": [],
   "source": [
    "a = pd.read_csv(\"hr_temp_20170201-20200131_subset.csv\", usecols=[1,4])"
   ]
  },
  {
   "cell_type": "code",
   "execution_count": 249,
   "metadata": {
    "scrolled": true
   },
   "outputs": [],
   "source": [
    "a.columns=['date','temp'] "
   ]
  },
  {
   "cell_type": "code",
   "execution_count": 250,
   "metadata": {},
   "outputs": [],
   "source": [
    "a['date'] = pd.to_datetime(a['date'],format=\"%Y-%m-%dT%H\")\n",
    "a=a.assign(date=a.date.dt.round('H'))"
   ]
  },
  {
   "cell_type": "code",
   "execution_count": 251,
   "metadata": {},
   "outputs": [
    {
     "name": "stdout",
     "output_type": "stream",
     "text": [
      "                 date  temp\n",
      "0 2017-02-01 01:00:00  37.0\n",
      "1 2017-02-01 02:00:00  37.0\n",
      "2 2017-02-01 03:00:00  36.0\n",
      "3 2017-02-01 04:00:00  36.0\n",
      "4 2017-02-01 05:00:00  36.0\n",
      "5 2017-02-01 06:00:00  36.0\n",
      "6 2017-02-01 07:00:00  34.0\n",
      "7 2017-02-01 08:00:00  33.0\n",
      "8 2017-02-01 09:00:00  34.0\n",
      "9 2017-02-01 10:00:00  35.0\n"
     ]
    }
   ],
   "source": [
    "a.dtypes\n",
    "print(a.head(10))\n"
   ]
  },
  {
   "cell_type": "code",
   "execution_count": 252,
   "metadata": {
    "scrolled": true
   },
   "outputs": [
    {
     "name": "stdout",
     "output_type": "stream",
     "text": [
      "                 date  temp\n",
      "0 2017-02-01 01:00:00  37.0\n",
      "1 2017-02-01 02:00:00  37.0\n",
      "2 2017-02-01 03:00:00  36.0\n",
      "3 2017-02-01 04:00:00  36.0\n",
      "4 2017-02-01 05:00:00  36.0\n"
     ]
    }
   ],
   "source": [
    "print(a.head(5))"
   ]
  },
  {
   "cell_type": "markdown",
   "metadata": {},
   "source": [
    "Upload power Data to temp DF b, convert dates, change colun headerspower"
   ]
  },
  {
   "cell_type": "code",
   "execution_count": 253,
   "metadata": {},
   "outputs": [],
   "source": [
    "b = pd.read_csv(\"hrl_load_metered - 20170201-20200131.csv\", usecols=[1,6])"
   ]
  },
  {
   "cell_type": "code",
   "execution_count": 254,
   "metadata": {
    "scrolled": true
   },
   "outputs": [
    {
     "name": "stdout",
     "output_type": "stream",
     "text": [
      "            date        mw\n",
      "0  2/1/2017 0:00  1419.881\n",
      "1  2/1/2017 1:00  1379.505\n",
      "2  2/1/2017 2:00  1366.106\n",
      "3  2/1/2017 3:00  1364.453\n",
      "4  2/1/2017 4:00  1391.265\n"
     ]
    }
   ],
   "source": [
    "b.columns=['date','mw'] \n",
    "print(b.head(5))"
   ]
  },
  {
   "cell_type": "code",
   "execution_count": 255,
   "metadata": {
    "scrolled": false
   },
   "outputs": [],
   "source": [
    "b['date'] = pd.to_datetime(b['date'],format=\"%m/%d/%Y %H:%M\")"
   ]
  },
  {
   "cell_type": "code",
   "execution_count": 256,
   "metadata": {},
   "outputs": [
    {
     "name": "stdout",
     "output_type": "stream",
     "text": [
      "                 date        mw\n",
      "0 2017-02-01 00:00:00  1419.881\n",
      "1 2017-02-01 01:00:00  1379.505\n",
      "2 2017-02-01 02:00:00  1366.106\n",
      "3 2017-02-01 03:00:00  1364.453\n",
      "4 2017-02-01 04:00:00  1391.265\n"
     ]
    }
   ],
   "source": [
    "b.dtypes\n",
    "print(b.head(5))"
   ]
  },
  {
   "cell_type": "markdown",
   "metadata": {},
   "source": [
    "Join a:b using datetime column date"
   ]
  },
  {
   "cell_type": "code",
   "execution_count": 257,
   "metadata": {
    "scrolled": true
   },
   "outputs": [
    {
     "name": "stdout",
     "output_type": "stream",
     "text": [
      "                 date        mw  temp\n",
      "0 2017-02-01 00:00:00  1419.881   NaN\n",
      "1 2017-02-01 01:00:00  1379.505  37.0\n",
      "2 2017-02-01 02:00:00  1366.106  37.0\n",
      "3 2017-02-01 03:00:00  1364.453  36.0\n",
      "4 2017-02-01 04:00:00  1391.265  36.0\n",
      "5 2017-02-01 05:00:00  1477.343  36.0\n",
      "6 2017-02-01 06:00:00  1585.252  36.0\n",
      "7 2017-02-01 07:00:00  1671.412  34.0\n",
      "8 2017-02-01 08:00:00  1708.597  33.0\n",
      "9 2017-02-01 09:00:00  1713.813  34.0\n",
      "                     date        mw  temp\n",
      "26274 2020-01-31 18:00:00  1645.181  35.0\n",
      "26275 2020-01-31 19:00:00  1618.484  34.0\n",
      "26276 2020-01-31 20:00:00  1580.925  34.0\n",
      "26277 2020-01-31 21:00:00  1545.354  33.0\n",
      "26278 2020-01-31 22:00:00  1478.832  33.0\n",
      "26279 2020-01-31 23:00:00  1405.188  33.0\n",
      "26280 2017-03-12 02:00:00       NaN  17.0\n",
      "26281 2018-03-11 02:00:00       NaN  24.0\n",
      "26282 2019-03-10 02:00:00       NaN  45.0\n",
      "26283 2020-02-01 00:00:00       NaN  34.0\n"
     ]
    },
    {
     "ename": "AttributeError",
     "evalue": "'DataFrame' object has no attribute 'dtypesprint'",
     "output_type": "error",
     "traceback": [
      "\u001b[1;31m---------------------------------------------------------------------------\u001b[0m",
      "\u001b[1;31mAttributeError\u001b[0m                            Traceback (most recent call last)",
      "\u001b[1;32m<ipython-input-257-c22c67c3f96c>\u001b[0m in \u001b[0;36m<module>\u001b[1;34m\u001b[0m\n\u001b[0;32m      2\u001b[0m \u001b[0mprint\u001b[0m\u001b[1;33m(\u001b[0m\u001b[0md\u001b[0m\u001b[1;33m.\u001b[0m\u001b[0mhead\u001b[0m\u001b[1;33m(\u001b[0m\u001b[1;36m10\u001b[0m\u001b[1;33m)\u001b[0m\u001b[1;33m)\u001b[0m\u001b[1;33m\u001b[0m\u001b[1;33m\u001b[0m\u001b[0m\n\u001b[0;32m      3\u001b[0m \u001b[0mprint\u001b[0m\u001b[1;33m(\u001b[0m\u001b[0md\u001b[0m\u001b[1;33m.\u001b[0m\u001b[0mtail\u001b[0m\u001b[1;33m(\u001b[0m\u001b[1;36m10\u001b[0m\u001b[1;33m)\u001b[0m\u001b[1;33m)\u001b[0m\u001b[1;33m\u001b[0m\u001b[1;33m\u001b[0m\u001b[0m\n\u001b[1;32m----> 4\u001b[1;33m \u001b[0mc\u001b[0m\u001b[1;33m.\u001b[0m\u001b[0mdtypesprint\u001b[0m\u001b[1;33m(\u001b[0m\u001b[0md\u001b[0m\u001b[1;33m.\u001b[0m\u001b[0mhead\u001b[0m\u001b[1;33m(\u001b[0m\u001b[1;36m10\u001b[0m\u001b[1;33m)\u001b[0m\u001b[1;33m)\u001b[0m\u001b[1;33m\u001b[0m\u001b[1;33m\u001b[0m\u001b[0m\n\u001b[0m",
      "\u001b[1;32m~\\anaconda3\\lib\\site-packages\\pandas\\core\\generic.py\u001b[0m in \u001b[0;36m__getattr__\u001b[1;34m(self, name)\u001b[0m\n\u001b[0;32m   5137\u001b[0m             \u001b[1;32mif\u001b[0m \u001b[0mself\u001b[0m\u001b[1;33m.\u001b[0m\u001b[0m_info_axis\u001b[0m\u001b[1;33m.\u001b[0m\u001b[0m_can_hold_identifiers_and_holds_name\u001b[0m\u001b[1;33m(\u001b[0m\u001b[0mname\u001b[0m\u001b[1;33m)\u001b[0m\u001b[1;33m:\u001b[0m\u001b[1;33m\u001b[0m\u001b[1;33m\u001b[0m\u001b[0m\n\u001b[0;32m   5138\u001b[0m                 \u001b[1;32mreturn\u001b[0m \u001b[0mself\u001b[0m\u001b[1;33m[\u001b[0m\u001b[0mname\u001b[0m\u001b[1;33m]\u001b[0m\u001b[1;33m\u001b[0m\u001b[1;33m\u001b[0m\u001b[0m\n\u001b[1;32m-> 5139\u001b[1;33m             \u001b[1;32mreturn\u001b[0m \u001b[0mobject\u001b[0m\u001b[1;33m.\u001b[0m\u001b[0m__getattribute__\u001b[0m\u001b[1;33m(\u001b[0m\u001b[0mself\u001b[0m\u001b[1;33m,\u001b[0m \u001b[0mname\u001b[0m\u001b[1;33m)\u001b[0m\u001b[1;33m\u001b[0m\u001b[1;33m\u001b[0m\u001b[0m\n\u001b[0m\u001b[0;32m   5140\u001b[0m \u001b[1;33m\u001b[0m\u001b[0m\n\u001b[0;32m   5141\u001b[0m     \u001b[1;32mdef\u001b[0m \u001b[0m__setattr__\u001b[0m\u001b[1;33m(\u001b[0m\u001b[0mself\u001b[0m\u001b[1;33m,\u001b[0m \u001b[0mname\u001b[0m\u001b[1;33m:\u001b[0m \u001b[0mstr\u001b[0m\u001b[1;33m,\u001b[0m \u001b[0mvalue\u001b[0m\u001b[1;33m)\u001b[0m \u001b[1;33m->\u001b[0m \u001b[1;32mNone\u001b[0m\u001b[1;33m:\u001b[0m\u001b[1;33m\u001b[0m\u001b[1;33m\u001b[0m\u001b[0m\n",
      "\u001b[1;31mAttributeError\u001b[0m: 'DataFrame' object has no attribute 'dtypesprint'"
     ]
    }
   ],
   "source": [
    "d= pd.merge( b ,a, on = ['date'], how='outer')\n",
    "print(d.head(10))\n",
    "print(d.tail(10))\n",
    "c.dtypesprint(d.head(10))"
   ]
  },
  {
   "cell_type": "markdown",
   "metadata": {},
   "source": [
    "add date time columns\n"
   ]
  },
  {
   "cell_type": "code",
   "execution_count": 258,
   "metadata": {},
   "outputs": [
    {
     "name": "stdout",
     "output_type": "stream",
     "text": [
      "                 date        mw  temp  hour  day  month  year\n",
      "0 2017-02-01 00:00:00  1419.881   NaN     0    1      2  2017\n",
      "1 2017-02-01 01:00:00  1379.505  37.0     1    1      2  2017\n",
      "2 2017-02-01 02:00:00  1366.106  37.0     2    1      2  2017\n",
      "3 2017-02-01 03:00:00  1364.453  36.0     3    1      2  2017\n",
      "4 2017-02-01 04:00:00  1391.265  36.0     4    1      2  2017\n"
     ]
    }
   ],
   "source": [
    "d['hour']= d['date'].dt.hour\n",
    "d['day']= d['date'].dt.day\n",
    "d['month']= d['date'].dt.month\n",
    "d['year']= d['date'].dt.year\n",
    "print(d.head(5))"
   ]
  },
  {
   "cell_type": "code",
   "execution_count": 259,
   "metadata": {},
   "outputs": [],
   "source": [
    "d=d.set_index('date')\n"
   ]
  },
  {
   "cell_type": "code",
   "execution_count": 260,
   "metadata": {},
   "outputs": [
    {
     "name": "stdout",
     "output_type": "stream",
     "text": [
      "                           mw  temp  hour  day  month  year\n",
      "date                                                       \n",
      "2017-02-01 00:00:00  1419.881   NaN     0    1      2  2017\n",
      "2017-02-01 01:00:00  1379.505  37.0     1    1      2  2017\n",
      "2017-02-01 02:00:00  1366.106  37.0     2    1      2  2017\n",
      "2017-02-01 03:00:00  1364.453  36.0     3    1      2  2017\n",
      "2017-02-01 04:00:00  1391.265  36.0     4    1      2  2017\n"
     ]
    }
   ],
   "source": [
    "print(d.head(5))"
   ]
  },
  {
   "cell_type": "markdown",
   "metadata": {},
   "source": [
    "Check for temp=nan  then Interpolate missing values"
   ]
  },
  {
   "cell_type": "code",
   "execution_count": 261,
   "metadata": {},
   "outputs": [
    {
     "data": {
      "text/html": [
       "<div>\n",
       "<style scoped>\n",
       "    .dataframe tbody tr th:only-of-type {\n",
       "        vertical-align: middle;\n",
       "    }\n",
       "\n",
       "    .dataframe tbody tr th {\n",
       "        vertical-align: top;\n",
       "    }\n",
       "\n",
       "    .dataframe thead th {\n",
       "        text-align: right;\n",
       "    }\n",
       "</style>\n",
       "<table border=\"1\" class=\"dataframe\">\n",
       "  <thead>\n",
       "    <tr style=\"text-align: right;\">\n",
       "      <th></th>\n",
       "      <th>mw</th>\n",
       "      <th>temp</th>\n",
       "      <th>hour</th>\n",
       "      <th>day</th>\n",
       "      <th>month</th>\n",
       "      <th>year</th>\n",
       "    </tr>\n",
       "    <tr>\n",
       "      <th>date</th>\n",
       "      <th></th>\n",
       "      <th></th>\n",
       "      <th></th>\n",
       "      <th></th>\n",
       "      <th></th>\n",
       "      <th></th>\n",
       "    </tr>\n",
       "  </thead>\n",
       "  <tbody>\n",
       "    <tr>\n",
       "      <th>2017-02-01 00:00:00</th>\n",
       "      <td>1419.881</td>\n",
       "      <td>NaN</td>\n",
       "      <td>0</td>\n",
       "      <td>1</td>\n",
       "      <td>2</td>\n",
       "      <td>2017</td>\n",
       "    </tr>\n",
       "    <tr>\n",
       "      <th>2018-10-25 13:00:00</th>\n",
       "      <td>1569.389</td>\n",
       "      <td>NaN</td>\n",
       "      <td>13</td>\n",
       "      <td>25</td>\n",
       "      <td>10</td>\n",
       "      <td>2018</td>\n",
       "    </tr>\n",
       "    <tr>\n",
       "      <th>2018-12-25 03:00:00</th>\n",
       "      <td>1263.540</td>\n",
       "      <td>NaN</td>\n",
       "      <td>3</td>\n",
       "      <td>25</td>\n",
       "      <td>12</td>\n",
       "      <td>2018</td>\n",
       "    </tr>\n",
       "    <tr>\n",
       "      <th>2018-12-25 04:00:00</th>\n",
       "      <td>1271.892</td>\n",
       "      <td>NaN</td>\n",
       "      <td>4</td>\n",
       "      <td>25</td>\n",
       "      <td>12</td>\n",
       "      <td>2018</td>\n",
       "    </tr>\n",
       "    <tr>\n",
       "      <th>2018-12-25 05:00:00</th>\n",
       "      <td>1304.021</td>\n",
       "      <td>NaN</td>\n",
       "      <td>5</td>\n",
       "      <td>25</td>\n",
       "      <td>12</td>\n",
       "      <td>2018</td>\n",
       "    </tr>\n",
       "    <tr>\n",
       "      <th>2018-12-25 06:00:00</th>\n",
       "      <td>1340.344</td>\n",
       "      <td>NaN</td>\n",
       "      <td>6</td>\n",
       "      <td>25</td>\n",
       "      <td>12</td>\n",
       "      <td>2018</td>\n",
       "    </tr>\n",
       "    <tr>\n",
       "      <th>2018-12-25 07:00:00</th>\n",
       "      <td>1380.992</td>\n",
       "      <td>NaN</td>\n",
       "      <td>7</td>\n",
       "      <td>25</td>\n",
       "      <td>12</td>\n",
       "      <td>2018</td>\n",
       "    </tr>\n",
       "    <tr>\n",
       "      <th>2018-12-25 08:00:00</th>\n",
       "      <td>1395.445</td>\n",
       "      <td>NaN</td>\n",
       "      <td>8</td>\n",
       "      <td>25</td>\n",
       "      <td>12</td>\n",
       "      <td>2018</td>\n",
       "    </tr>\n",
       "    <tr>\n",
       "      <th>2018-12-25 09:00:00</th>\n",
       "      <td>1422.708</td>\n",
       "      <td>NaN</td>\n",
       "      <td>9</td>\n",
       "      <td>25</td>\n",
       "      <td>12</td>\n",
       "      <td>2018</td>\n",
       "    </tr>\n",
       "    <tr>\n",
       "      <th>2018-12-25 10:00:00</th>\n",
       "      <td>1438.822</td>\n",
       "      <td>NaN</td>\n",
       "      <td>10</td>\n",
       "      <td>25</td>\n",
       "      <td>12</td>\n",
       "      <td>2018</td>\n",
       "    </tr>\n",
       "    <tr>\n",
       "      <th>2018-12-25 11:00:00</th>\n",
       "      <td>1413.274</td>\n",
       "      <td>NaN</td>\n",
       "      <td>11</td>\n",
       "      <td>25</td>\n",
       "      <td>12</td>\n",
       "      <td>2018</td>\n",
       "    </tr>\n",
       "    <tr>\n",
       "      <th>2018-12-25 12:00:00</th>\n",
       "      <td>1394.176</td>\n",
       "      <td>NaN</td>\n",
       "      <td>12</td>\n",
       "      <td>25</td>\n",
       "      <td>12</td>\n",
       "      <td>2018</td>\n",
       "    </tr>\n",
       "    <tr>\n",
       "      <th>2018-12-25 13:00:00</th>\n",
       "      <td>1375.023</td>\n",
       "      <td>NaN</td>\n",
       "      <td>13</td>\n",
       "      <td>25</td>\n",
       "      <td>12</td>\n",
       "      <td>2018</td>\n",
       "    </tr>\n",
       "    <tr>\n",
       "      <th>2018-12-25 14:00:00</th>\n",
       "      <td>1354.344</td>\n",
       "      <td>NaN</td>\n",
       "      <td>14</td>\n",
       "      <td>25</td>\n",
       "      <td>12</td>\n",
       "      <td>2018</td>\n",
       "    </tr>\n",
       "    <tr>\n",
       "      <th>2018-12-25 15:00:00</th>\n",
       "      <td>1348.573</td>\n",
       "      <td>NaN</td>\n",
       "      <td>15</td>\n",
       "      <td>25</td>\n",
       "      <td>12</td>\n",
       "      <td>2018</td>\n",
       "    </tr>\n",
       "    <tr>\n",
       "      <th>2018-12-25 16:00:00</th>\n",
       "      <td>1379.544</td>\n",
       "      <td>NaN</td>\n",
       "      <td>16</td>\n",
       "      <td>25</td>\n",
       "      <td>12</td>\n",
       "      <td>2018</td>\n",
       "    </tr>\n",
       "    <tr>\n",
       "      <th>2018-12-25 17:00:00</th>\n",
       "      <td>1455.665</td>\n",
       "      <td>NaN</td>\n",
       "      <td>17</td>\n",
       "      <td>25</td>\n",
       "      <td>12</td>\n",
       "      <td>2018</td>\n",
       "    </tr>\n",
       "    <tr>\n",
       "      <th>2018-12-25 18:00:00</th>\n",
       "      <td>1462.390</td>\n",
       "      <td>NaN</td>\n",
       "      <td>18</td>\n",
       "      <td>25</td>\n",
       "      <td>12</td>\n",
       "      <td>2018</td>\n",
       "    </tr>\n",
       "    <tr>\n",
       "      <th>2018-12-25 19:00:00</th>\n",
       "      <td>1462.030</td>\n",
       "      <td>NaN</td>\n",
       "      <td>19</td>\n",
       "      <td>25</td>\n",
       "      <td>12</td>\n",
       "      <td>2018</td>\n",
       "    </tr>\n",
       "    <tr>\n",
       "      <th>2018-12-25 20:00:00</th>\n",
       "      <td>1461.466</td>\n",
       "      <td>NaN</td>\n",
       "      <td>20</td>\n",
       "      <td>25</td>\n",
       "      <td>12</td>\n",
       "      <td>2018</td>\n",
       "    </tr>\n",
       "    <tr>\n",
       "      <th>2018-12-25 21:00:00</th>\n",
       "      <td>1448.051</td>\n",
       "      <td>NaN</td>\n",
       "      <td>21</td>\n",
       "      <td>25</td>\n",
       "      <td>12</td>\n",
       "      <td>2018</td>\n",
       "    </tr>\n",
       "    <tr>\n",
       "      <th>2018-12-25 22:00:00</th>\n",
       "      <td>1406.473</td>\n",
       "      <td>NaN</td>\n",
       "      <td>22</td>\n",
       "      <td>25</td>\n",
       "      <td>12</td>\n",
       "      <td>2018</td>\n",
       "    </tr>\n",
       "    <tr>\n",
       "      <th>2018-12-25 23:00:00</th>\n",
       "      <td>1345.258</td>\n",
       "      <td>NaN</td>\n",
       "      <td>23</td>\n",
       "      <td>25</td>\n",
       "      <td>12</td>\n",
       "      <td>2018</td>\n",
       "    </tr>\n",
       "    <tr>\n",
       "      <th>2018-12-26 00:00:00</th>\n",
       "      <td>1301.272</td>\n",
       "      <td>NaN</td>\n",
       "      <td>0</td>\n",
       "      <td>26</td>\n",
       "      <td>12</td>\n",
       "      <td>2018</td>\n",
       "    </tr>\n",
       "    <tr>\n",
       "      <th>2018-12-26 01:00:00</th>\n",
       "      <td>1267.715</td>\n",
       "      <td>NaN</td>\n",
       "      <td>1</td>\n",
       "      <td>26</td>\n",
       "      <td>12</td>\n",
       "      <td>2018</td>\n",
       "    </tr>\n",
       "    <tr>\n",
       "      <th>2018-12-26 02:00:00</th>\n",
       "      <td>1264.119</td>\n",
       "      <td>NaN</td>\n",
       "      <td>2</td>\n",
       "      <td>26</td>\n",
       "      <td>12</td>\n",
       "      <td>2018</td>\n",
       "    </tr>\n",
       "    <tr>\n",
       "      <th>2018-12-26 03:00:00</th>\n",
       "      <td>1259.701</td>\n",
       "      <td>NaN</td>\n",
       "      <td>3</td>\n",
       "      <td>26</td>\n",
       "      <td>12</td>\n",
       "      <td>2018</td>\n",
       "    </tr>\n",
       "    <tr>\n",
       "      <th>2018-12-26 04:00:00</th>\n",
       "      <td>1279.052</td>\n",
       "      <td>NaN</td>\n",
       "      <td>4</td>\n",
       "      <td>26</td>\n",
       "      <td>12</td>\n",
       "      <td>2018</td>\n",
       "    </tr>\n",
       "    <tr>\n",
       "      <th>2018-12-26 05:00:00</th>\n",
       "      <td>1332.444</td>\n",
       "      <td>NaN</td>\n",
       "      <td>5</td>\n",
       "      <td>26</td>\n",
       "      <td>12</td>\n",
       "      <td>2018</td>\n",
       "    </tr>\n",
       "    <tr>\n",
       "      <th>2018-12-26 06:00:00</th>\n",
       "      <td>1422.136</td>\n",
       "      <td>NaN</td>\n",
       "      <td>6</td>\n",
       "      <td>26</td>\n",
       "      <td>12</td>\n",
       "      <td>2018</td>\n",
       "    </tr>\n",
       "    <tr>\n",
       "      <th>2018-12-26 09:00:00</th>\n",
       "      <td>1558.543</td>\n",
       "      <td>NaN</td>\n",
       "      <td>9</td>\n",
       "      <td>26</td>\n",
       "      <td>12</td>\n",
       "      <td>2018</td>\n",
       "    </tr>\n",
       "    <tr>\n",
       "      <th>2018-12-26 10:00:00</th>\n",
       "      <td>1564.532</td>\n",
       "      <td>NaN</td>\n",
       "      <td>10</td>\n",
       "      <td>26</td>\n",
       "      <td>12</td>\n",
       "      <td>2018</td>\n",
       "    </tr>\n",
       "    <tr>\n",
       "      <th>2018-12-26 11:00:00</th>\n",
       "      <td>1543.588</td>\n",
       "      <td>NaN</td>\n",
       "      <td>11</td>\n",
       "      <td>26</td>\n",
       "      <td>12</td>\n",
       "      <td>2018</td>\n",
       "    </tr>\n",
       "    <tr>\n",
       "      <th>2018-12-26 12:00:00</th>\n",
       "      <td>1530.271</td>\n",
       "      <td>NaN</td>\n",
       "      <td>12</td>\n",
       "      <td>26</td>\n",
       "      <td>12</td>\n",
       "      <td>2018</td>\n",
       "    </tr>\n",
       "    <tr>\n",
       "      <th>2019-05-26 02:00:00</th>\n",
       "      <td>1216.115</td>\n",
       "      <td>NaN</td>\n",
       "      <td>2</td>\n",
       "      <td>26</td>\n",
       "      <td>5</td>\n",
       "      <td>2019</td>\n",
       "    </tr>\n",
       "    <tr>\n",
       "      <th>2019-05-26 03:00:00</th>\n",
       "      <td>1174.187</td>\n",
       "      <td>NaN</td>\n",
       "      <td>3</td>\n",
       "      <td>26</td>\n",
       "      <td>5</td>\n",
       "      <td>2019</td>\n",
       "    </tr>\n",
       "    <tr>\n",
       "      <th>2019-05-26 04:00:00</th>\n",
       "      <td>1161.376</td>\n",
       "      <td>NaN</td>\n",
       "      <td>4</td>\n",
       "      <td>26</td>\n",
       "      <td>5</td>\n",
       "      <td>2019</td>\n",
       "    </tr>\n",
       "    <tr>\n",
       "      <th>2019-05-26 08:00:00</th>\n",
       "      <td>1330.041</td>\n",
       "      <td>NaN</td>\n",
       "      <td>8</td>\n",
       "      <td>26</td>\n",
       "      <td>5</td>\n",
       "      <td>2019</td>\n",
       "    </tr>\n",
       "  </tbody>\n",
       "</table>\n",
       "</div>"
      ],
      "text/plain": [
       "                           mw  temp  hour  day  month  year\n",
       "date                                                       \n",
       "2017-02-01 00:00:00  1419.881   NaN     0    1      2  2017\n",
       "2018-10-25 13:00:00  1569.389   NaN    13   25     10  2018\n",
       "2018-12-25 03:00:00  1263.540   NaN     3   25     12  2018\n",
       "2018-12-25 04:00:00  1271.892   NaN     4   25     12  2018\n",
       "2018-12-25 05:00:00  1304.021   NaN     5   25     12  2018\n",
       "2018-12-25 06:00:00  1340.344   NaN     6   25     12  2018\n",
       "2018-12-25 07:00:00  1380.992   NaN     7   25     12  2018\n",
       "2018-12-25 08:00:00  1395.445   NaN     8   25     12  2018\n",
       "2018-12-25 09:00:00  1422.708   NaN     9   25     12  2018\n",
       "2018-12-25 10:00:00  1438.822   NaN    10   25     12  2018\n",
       "2018-12-25 11:00:00  1413.274   NaN    11   25     12  2018\n",
       "2018-12-25 12:00:00  1394.176   NaN    12   25     12  2018\n",
       "2018-12-25 13:00:00  1375.023   NaN    13   25     12  2018\n",
       "2018-12-25 14:00:00  1354.344   NaN    14   25     12  2018\n",
       "2018-12-25 15:00:00  1348.573   NaN    15   25     12  2018\n",
       "2018-12-25 16:00:00  1379.544   NaN    16   25     12  2018\n",
       "2018-12-25 17:00:00  1455.665   NaN    17   25     12  2018\n",
       "2018-12-25 18:00:00  1462.390   NaN    18   25     12  2018\n",
       "2018-12-25 19:00:00  1462.030   NaN    19   25     12  2018\n",
       "2018-12-25 20:00:00  1461.466   NaN    20   25     12  2018\n",
       "2018-12-25 21:00:00  1448.051   NaN    21   25     12  2018\n",
       "2018-12-25 22:00:00  1406.473   NaN    22   25     12  2018\n",
       "2018-12-25 23:00:00  1345.258   NaN    23   25     12  2018\n",
       "2018-12-26 00:00:00  1301.272   NaN     0   26     12  2018\n",
       "2018-12-26 01:00:00  1267.715   NaN     1   26     12  2018\n",
       "2018-12-26 02:00:00  1264.119   NaN     2   26     12  2018\n",
       "2018-12-26 03:00:00  1259.701   NaN     3   26     12  2018\n",
       "2018-12-26 04:00:00  1279.052   NaN     4   26     12  2018\n",
       "2018-12-26 05:00:00  1332.444   NaN     5   26     12  2018\n",
       "2018-12-26 06:00:00  1422.136   NaN     6   26     12  2018\n",
       "2018-12-26 09:00:00  1558.543   NaN     9   26     12  2018\n",
       "2018-12-26 10:00:00  1564.532   NaN    10   26     12  2018\n",
       "2018-12-26 11:00:00  1543.588   NaN    11   26     12  2018\n",
       "2018-12-26 12:00:00  1530.271   NaN    12   26     12  2018\n",
       "2019-05-26 02:00:00  1216.115   NaN     2   26      5  2019\n",
       "2019-05-26 03:00:00  1174.187   NaN     3   26      5  2019\n",
       "2019-05-26 04:00:00  1161.376   NaN     4   26      5  2019\n",
       "2019-05-26 08:00:00  1330.041   NaN     8   26      5  2019"
      ]
     },
     "execution_count": 261,
     "metadata": {},
     "output_type": "execute_result"
    }
   ],
   "source": [
    "d[d['temp'].isna()]"
   ]
  },
  {
   "cell_type": "code",
   "execution_count": 262,
   "metadata": {},
   "outputs": [],
   "source": [
    "d=d.interpolate(method='linear',limit_direction = 'forward')"
   ]
  },
  {
   "cell_type": "markdown",
   "metadata": {},
   "source": [
    "Create training and testing data :  train  test"
   ]
  },
  {
   "cell_type": "code",
   "execution_count": 263,
   "metadata": {},
   "outputs": [
    {
     "name": "stdout",
     "output_type": "stream",
     "text": [
      "26284\n",
      "[2017 2018 2019 2020]\n",
      "25539\n",
      "745\n",
      "                           mw  temp  hour  day  month  year\n",
      "date                                                       \n",
      "2017-02-01 00:00:00  1419.881   NaN     0    1      2  2017\n",
      "2017-02-01 01:00:00  1379.505  37.0     1    1      2  2017\n",
      "2017-02-01 02:00:00  1366.106  37.0     2    1      2  2017\n",
      "2017-02-01 03:00:00  1364.453  36.0     3    1      2  2017\n",
      "2017-02-01 04:00:00  1391.265  36.0     4    1      2  2017\n",
      "2017-02-01 05:00:00  1477.343  36.0     5    1      2  2017\n",
      "2017-02-01 06:00:00  1585.252  36.0     6    1      2  2017\n",
      "2017-02-01 07:00:00  1671.412  34.0     7    1      2  2017\n",
      "2017-02-01 08:00:00  1708.597  33.0     8    1      2  2017\n",
      "2017-02-01 09:00:00  1713.813  34.0     9    1      2  2017\n",
      "                           mw  temp  hour  day  month  year\n",
      "date                                                       \n",
      "2020-01-01 00:00:00  1363.428  30.0     0    1      1  2020\n",
      "2020-01-01 01:00:00  1335.975  31.0     1    1      1  2020\n",
      "2020-01-01 02:00:00  1296.817  29.0     2    1      1  2020\n",
      "2020-01-01 03:00:00  1288.403  30.0     3    1      1  2020\n",
      "2020-01-01 04:00:00  1292.263  30.0     4    1      1  2020\n",
      "2020-01-01 05:00:00  1318.124  31.0     5    1      1  2020\n",
      "2020-01-01 06:00:00  1342.334  31.0     6    1      1  2020\n",
      "2020-01-01 07:00:00  1365.210  31.0     7    1      1  2020\n",
      "2020-01-01 08:00:00  1385.602  30.0     8    1      1  2020\n",
      "2020-01-01 09:00:00  1413.973  31.0     9    1      1  2020\n"
     ]
    }
   ],
   "source": [
    "print(len(d.index))\n",
    "print(d.year.unique())\n",
    "train = d[d.year != 2020]\n",
    "print(len(train.index))\n",
    "test  = d[d.year == 2020]\n",
    "print(len(test.index))\n",
    "print(train.head(10))\n",
    "print(test.head(10))"
   ]
  },
  {
   "cell_type": "code",
   "execution_count": null,
   "metadata": {},
   "outputs": [],
   "source": []
  },
  {
   "cell_type": "code",
   "execution_count": null,
   "metadata": {},
   "outputs": [],
   "source": []
  },
  {
   "cell_type": "code",
   "execution_count": null,
   "metadata": {},
   "outputs": [],
   "source": []
  },
  {
   "cell_type": "code",
   "execution_count": null,
   "metadata": {},
   "outputs": [],
   "source": []
  }
 ],
 "metadata": {
  "kernelspec": {
   "display_name": "Python 3",
   "language": "python",
   "name": "python3"
  },
  "language_info": {
   "codemirror_mode": {
    "name": "ipython",
    "version": 3
   },
   "file_extension": ".py",
   "mimetype": "text/x-python",
   "name": "python",
   "nbconvert_exporter": "python",
   "pygments_lexer": "ipython3",
   "version": "3.8.5"
  }
 },
 "nbformat": 4,
 "nbformat_minor": 4
}
